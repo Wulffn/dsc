{
 "cells": [
  {
   "cell_type": "markdown",
   "id": "joint-purpose",
   "metadata": {},
   "source": [
    "# Text Vectorization Mini Project"
   ]
  },
  {
   "cell_type": "code",
   "execution_count": 17,
   "id": "subtle-evidence",
   "metadata": {},
   "outputs": [],
   "source": [
    "import pandas as pd\n",
    "import sklearn as sk\n",
    "import numpy as np\n",
    "import math"
   ]
  },
  {
   "cell_type": "code",
   "execution_count": 18,
   "id": "recovered-cradle",
   "metadata": {},
   "outputs": [
    {
     "name": "stdout",
     "output_type": "stream",
     "text": [
      "/Users/mwn/Desktop/cphbusiness/SOFT/Sem2/DSC/jupyterNotebooks/Assignments/TextVectorization\n"
     ]
    }
   ],
   "source": [
    "!pwd"
   ]
  },
  {
   "cell_type": "code",
   "execution_count": 19,
   "id": "governmental-count",
   "metadata": {},
   "outputs": [],
   "source": [
    "a = open(\"erin_cunningham_wp1.txt\", \"r\").read()\n",
    "b = open(\"erin_cunningham_wp2.txt\", \"r\").read()\n",
    "c = open(\"forrest_brown_cnn.txt\", \"r\").read()\n"
   ]
  },
  {
   "cell_type": "code",
   "execution_count": 20,
   "id": "usual-amount",
   "metadata": {},
   "outputs": [],
   "source": [
    "def checkSimilarity(original_article, comparing_articles: list):\n",
    "    original = original_article.split(\" \")\n",
    "    all = []\n",
    "    all.append(original)\n",
    "    for art in comparing_articles:\n",
    "        all.append(art.split(\" \"))\n",
    "    dicts = countWords(all)\n",
    "    return calculateSimilarity(dicts)"
   ]
  },
  {
   "cell_type": "code",
   "execution_count": 21,
   "id": "atlantic-sending",
   "metadata": {},
   "outputs": [],
   "source": [
    "def cleanText(text):\n",
    "    text = text.replace(\".\", \"\")\n",
    "    text = text.replace(\",\", \"\")\n",
    "    text = text.replace(\"\\n\", \"\")\n",
    "    text.lower()\n",
    "    return text"
   ]
  },
  {
   "cell_type": "code",
   "execution_count": 22,
   "id": "ultimate-bookmark",
   "metadata": {},
   "outputs": [],
   "source": [
    "def countWords(articles):\n",
    "    all = set(sum(articles, []))\n",
    "    dicts = []\n",
    "    for art in articles:\n",
    "        d = dict.fromkeys(all, 0)\n",
    "        for word in art:\n",
    "            d[word]+=1\n",
    "        dicts.append(d)\n",
    "    \n",
    "    return dicts"
   ]
  },
  {
   "cell_type": "code",
   "execution_count": 23,
   "id": "cross-stranger",
   "metadata": {},
   "outputs": [],
   "source": [
    "def cosine(vector1, vector2):\n",
    "     # calculate nominator as a dot product\n",
    "     intersect = set(vector1.keys()) & set(vector2.keys())\n",
    "     numerator = sum([vector1[x] * vector2[x] for x in intersect])\n",
    "    \n",
    "     # calculate the denominator \n",
    "     sum1 = sum([vector1[x] ** 2 for x in list(vector1.keys())])\n",
    "     sum2 = sum([vector2[x] ** 2 for x in list(vector2.keys())])\n",
    "    \n",
    "     denominator = math.sqrt(sum1) * math.sqrt(sum2)\n",
    "     if not denominator:\n",
    "         return 0.0\n",
    "     else:\n",
    "         return float(numerator)/denominator"
   ]
  },
  {
   "cell_type": "code",
   "execution_count": 24,
   "id": "protective-arthur",
   "metadata": {},
   "outputs": [],
   "source": [
    "def calculateSimilarity(dicts: dict):\n",
    "    baseDict = dicts[0]\n",
    "    result = []\n",
    "    for i in range(1, len(dicts)):\n",
    "        corr = cosine(baseDict, dicts[i])\n",
    "        result.append({\"text\": i, \"similarity_to_basetext\": corr})\n",
    "    return result"
   ]
  },
  {
   "cell_type": "markdown",
   "id": "scientific-bikini",
   "metadata": {},
   "source": [
    "### Vejledning\n",
    "\n",
    "Brug checkSimilarity metoden. Først parameter er base teksten, andet parameter er en liste af andre tekster. Output angiver similarity på listens tekster i forhold til base teksten "
   ]
  },
  {
   "cell_type": "code",
   "execution_count": 25,
   "id": "cultural-spring",
   "metadata": {},
   "outputs": [
    {
     "name": "stdout",
     "output_type": "stream",
     "text": [
      "[{'text': 1, 'similarity_to_basetext': 0.5727552912171004}, {'text': 2, 'similarity_to_basetext': 0.42596011083480606}]\n"
     ]
    }
   ],
   "source": [
    "a = cleanText(a)\n",
    "b = cleanText(b)\n",
    "c = cleanText(c)\n",
    "print(checkSimilarity(a, [b, c]))"
   ]
  },
  {
   "cell_type": "code",
   "execution_count": null,
   "id": "willing-warrior",
   "metadata": {},
   "outputs": [],
   "source": []
  }
 ],
 "metadata": {
  "kernelspec": {
   "display_name": "Python 3",
   "language": "python",
   "name": "python3"
  },
  "language_info": {
   "codemirror_mode": {
    "name": "ipython",
    "version": 3
   },
   "file_extension": ".py",
   "mimetype": "text/x-python",
   "name": "python",
   "nbconvert_exporter": "python",
   "pygments_lexer": "ipython3",
   "version": "3.8.5"
  }
 },
 "nbformat": 4,
 "nbformat_minor": 5
}
