{
 "cells": [
  {
   "cell_type": "markdown",
   "id": "married-cowboy",
   "metadata": {},
   "source": [
    "# Text Vectorization Mini Project"
   ]
  },
  {
   "cell_type": "code",
   "execution_count": 396,
   "id": "satisfactory-arena",
   "metadata": {},
   "outputs": [],
   "source": [
    "import pandas as pd\n",
    "import sklearn as sk\n",
    "import numpy as np\n",
    "import math"
   ]
  },
  {
   "cell_type": "code",
   "execution_count": 397,
   "id": "latest-fifth",
   "metadata": {},
   "outputs": [
    {
     "name": "stdout",
     "output_type": "stream",
     "text": [
      "/Users/mwn/Desktop/cphbusiness/SOFT/Sem2/DSC/jupyterNotebooks/TextVectorization\n"
     ]
    }
   ],
   "source": [
    "!pwd"
   ]
  },
  {
   "cell_type": "code",
   "execution_count": 398,
   "id": "unlikely-melissa",
   "metadata": {},
   "outputs": [],
   "source": [
    "a = open(\"erin_cunningham_wp1.txt\", \"r\").read()\n",
    "b = open(\"erin_cunningham_wp2.txt\", \"r\").read()\n",
    "c = open(\"forrest_brown_cnn.txt\", \"r\").read()\n",
    "a = cleanText(a)\n",
    "b = cleanText(b)\n",
    "c = cleanText(c)"
   ]
  },
  {
   "cell_type": "code",
   "execution_count": 399,
   "id": "individual-commerce",
   "metadata": {},
   "outputs": [],
   "source": [
    "def checkSimilarity(original_article, comparing_articles: list):\n",
    "    original = original_article.split(\" \")\n",
    "    all = []\n",
    "    all.append(original)\n",
    "    for art in comparing_articles:\n",
    "        all.append(art.split(\" \"))\n",
    "    dicts = countWords(all)\n",
    "    return calculateSimilarity(dicts)"
   ]
  },
  {
   "cell_type": "code",
   "execution_count": 400,
   "id": "friendly-clothing",
   "metadata": {},
   "outputs": [],
   "source": [
    "def cleanText(text):\n",
    "    text = text.replace(\".\", \"\")\n",
    "    text = text.replace(\",\", \"\")\n",
    "    text = text.replace(\"\\n\", \"\")\n",
    "    return text"
   ]
  },
  {
   "cell_type": "code",
   "execution_count": 401,
   "id": "expanded-thing",
   "metadata": {},
   "outputs": [],
   "source": [
    "def countWords(articles):\n",
    "    all = set(sum(articles, []))\n",
    "    dicts = []\n",
    "    for art in articles:\n",
    "        d = dict.fromkeys(all, 0)\n",
    "        for word in art:\n",
    "            d[word]+=1\n",
    "        dicts.append(d)\n",
    "    \n",
    "    return dicts"
   ]
  },
  {
   "cell_type": "code",
   "execution_count": 402,
   "id": "coated-animal",
   "metadata": {},
   "outputs": [],
   "source": [
    "def cosine(vector1, vector2):\n",
    "     # calculate nominator as a dot product\n",
    "     intersect = set(vector1.keys()) & set(vector2.keys())\n",
    "     numerator = sum([vector1[x] * vector2[x] for x in intersect])\n",
    "    \n",
    "     # calculate the denominator \n",
    "     sum1 = sum([vector1[x] ** 2 for x in list(vector1.keys())])\n",
    "     sum2 = sum([vector2[x] ** 2 for x in list(vector2.keys())])\n",
    "    \n",
    "     denominator = math.sqrt(sum1) * math.sqrt(sum2)\n",
    "     if not denominator:\n",
    "         return 0.0\n",
    "     else:\n",
    "         return float(numerator)/denominator"
   ]
  },
  {
   "cell_type": "code",
   "execution_count": 403,
   "id": "ancient-fraud",
   "metadata": {},
   "outputs": [],
   "source": [
    "def calculateSimilarity(dicts: dict):\n",
    "    baseDict = dicts[0]\n",
    "    result = []\n",
    "    for i in range(1, len(dicts)):\n",
    "        corr = cosine(baseDict, dicts[i])\n",
    "        result.append({\"text\": i, \"similarity_to_basetext\": corr})\n",
    "    return result"
   ]
  },
  {
   "cell_type": "code",
   "execution_count": 404,
   "id": "swedish-nutrition",
   "metadata": {},
   "outputs": [
    {
     "name": "stdout",
     "output_type": "stream",
     "text": [
      "[{'text': 1, 'similarity_to_basetext': 0.5727552912171004}, {'text': 2, 'similarity_to_basetext': 0.42596011083480606}]\n"
     ]
    }
   ],
   "source": [
    "\n",
    "print(checkSimilarity(a, [b, c]))"
   ]
  },
  {
   "cell_type": "code",
   "execution_count": null,
   "id": "vertical-cleaners",
   "metadata": {},
   "outputs": [],
   "source": []
  }
 ],
 "metadata": {
  "kernelspec": {
   "display_name": "Python 3",
   "language": "python",
   "name": "python3"
  },
  "language_info": {
   "codemirror_mode": {
    "name": "ipython",
    "version": 3
   },
   "file_extension": ".py",
   "mimetype": "text/x-python",
   "name": "python",
   "nbconvert_exporter": "python",
   "pygments_lexer": "ipython3",
   "version": "3.8.5"
  }
 },
 "nbformat": 4,
 "nbformat_minor": 5
}
