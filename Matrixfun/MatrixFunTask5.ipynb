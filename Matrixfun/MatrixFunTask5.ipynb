{
 "cells": [
  {
   "cell_type": "code",
   "execution_count": 106,
   "id": "exciting-british",
   "metadata": {},
   "outputs": [],
   "source": [
    "import numpy as np\n",
    "from matplotlib import pyplot as plt\n",
    "from numpy.linalg import inv\n",
    "import math"
   ]
  },
  {
   "cell_type": "code",
   "execution_count": 107,
   "id": "quarterly-cemetery",
   "metadata": {},
   "outputs": [],
   "source": [
    "xs = np.array([0,0,3,3,0,1.5,3])\n",
    "ys = np.array([1,0,0,1,1,2 ,1])"
   ]
  },
  {
   "cell_type": "code",
   "execution_count": 108,
   "id": "friendly-dairy",
   "metadata": {},
   "outputs": [
    {
     "data": {
      "text/plain": [
       "<Figure size 432x288 with 0 Axes>"
      ]
     },
     "metadata": {},
     "output_type": "display_data"
    },
    {
     "data": {
      "image/png": "[encoded data removed]",
      "text/plain": [
       "<Figure size 432x288 with 1 Axes>"
      ]
     },
     "metadata": {
      "needs_background": "light"
     },
     "output_type": "display_data"
    }
   ],
   "source": [
    "fig = plt.figure()\n",
    "fig, ax = plt.subplots()"
   ]
  },
  {
   "cell_type": "code",
   "execution_count": 109,
   "id": "dental-indonesia",
   "metadata": {},
   "outputs": [
    {
     "data": {
      "text/plain": [
       "(-0.05500000000000001,\n",
       " 0.05500000000000001,\n",
       " -0.05500000000000001,\n",
       " 0.05500000000000001)"
      ]
     },
     "execution_count": 109,
     "metadata": {},
     "output_type": "execute_result"
    }
   ],
   "source": [
    "xs_ys = np.array([xs,ys])\n",
    "ax.axis('equal')"
   ]
  },
  {
   "cell_type": "code",
   "execution_count": 110,
   "id": "exotic-horizontal",
   "metadata": {},
   "outputs": [
    {
     "data": {
      "image/png": "[encoded data removed]",
      "text/plain": [
       "<Figure size 432x288 with 1 Axes>"
      ]
     },
     "execution_count": 110,
     "metadata": {},
     "output_type": "execute_result"
    }
   ],
   "source": [
    "# Plot the points\n",
    "ax.plot( *xs_ys, '-', color='b')\n",
    "fig"
   ]
  },
  {
   "cell_type": "code",
   "execution_count": 111,
   "id": "distinct-tunisia",
   "metadata": {},
   "outputs": [
    {
     "name": "stdout",
     "output_type": "stream",
     "text": [
      "3.141592653589793\n"
     ]
    }
   ],
   "source": [
    "#Create a rotation matrix\n",
    "##rot = np.array([[1, 0],[0, math.pi/4]]) # <-- CHANGE THIS\n",
    "theta = np.radians(45)\n",
    "print(theta * 4)\n",
    "c, s = np.cos(theta), np.sin(theta)\n",
    "rot = np.array(((c, -s), (s, c)))"
   ]
  },
  {
   "cell_type": "code",
   "execution_count": 112,
   "id": "enabling-douglas",
   "metadata": {},
   "outputs": [],
   "source": [
    "# turn the two lists (xs, ys) into a list of (x,y) tuples\n",
    "points = np.array([[x,y] for x,y in zip(xs,ys)])"
   ]
  },
  {
   "cell_type": "code",
   "execution_count": 113,
   "id": "recovered-environment",
   "metadata": {},
   "outputs": [],
   "source": [
    "# Make the transformation:\n",
    "points_rot = (points @ rot)"
   ]
  },
  {
   "cell_type": "code",
   "execution_count": 114,
   "id": "academic-location",
   "metadata": {},
   "outputs": [],
   "source": [
    "# Turn it into a row of xs and a row of ys:\n",
    "xs_ys_rot = np.array([points_rot[:,0], points_rot[:,1]])"
   ]
  },
  {
   "cell_type": "code",
   "execution_count": 115,
   "id": "responsible-witch",
   "metadata": {},
   "outputs": [
    {
     "data": {
      "image/png": "[encoded data removed]",
      "text/plain": [
       "<Figure size 432x288 with 1 Axes>"
      ]
     },
     "execution_count": 115,
     "metadata": {},
     "output_type": "execute_result"
    }
   ],
   "source": [
    "# Finally, plot it\n",
    "ax.plot( *xs_ys_rot, '-', color='r')\n",
    "fig"
   ]
  }
 ],
 "metadata": {
  "kernelspec": {
   "display_name": "Python 3",
   "language": "python",
   "name": "python3"
  },
  "language_info": {
   "codemirror_mode": {
    "name": "ipython",
    "version": 3
   },
   "file_extension": ".py",
   "mimetype": "text/x-python",
   "name": "python",
   "nbconvert_exporter": "python",
   "pygments_lexer": "ipython3",
   "version": "3.8.5"
  }
 },
 "nbformat": 4,
 "nbformat_minor": 5
}
