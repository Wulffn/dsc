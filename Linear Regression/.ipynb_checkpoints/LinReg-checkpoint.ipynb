{
 "cells": [
  {
   "cell_type": "markdown",
   "id": "norman-project",
   "metadata": {},
   "source": [
    "# E7-3 Simple Linear Regression Demo\n",
    "This example demonstrates supervised machine learning by simple linear regression."
   ]
  },
  {
   "cell_type": "markdown",
   "id": "accessible-atlas",
   "metadata": {},
   "source": [
    "## Step 1: Problem Analysis and Framing"
   ]
  },
  {
   "cell_type": "markdown",
   "id": "requested-understanding",
   "metadata": {},
   "source": [
    "![imHours.png](attachment:imHours.png)"
   ]
  },
  {
   "cell_type": "code",
   "execution_count": 119,
   "id": "former-studio",
   "metadata": {},
   "outputs": [],
   "source": [
    "# For data manipulation\n",
    "import pandas as pd\n",
    "\n",
    "# for scientific computation\n",
    "import numpy as np\n",
    "\n",
    "# for data analysis\n",
    "from sklearn.preprocessing import StandardScaler \n",
    "from sklearn import linear_model\n",
    "from sklearn.linear_model import LinearRegression\n",
    "import sklearn.metrics as sm\n",
    "\n",
    "# for diagramming \n",
    "import matplotlib.pyplot as plt\n",
    "import seaborn as sns\n",
    "\n",
    "# For serialization and deserialization of data from/to file\n",
    "import pickle"
   ]
  },
  {
   "cell_type": "markdown",
   "id": "hydraulic-myanmar",
   "metadata": {},
   "source": [
    "## Step 2: Data Preparation"
   ]
  },
  {
   "cell_type": "markdown",
   "id": "nonprofit-object",
   "metadata": {},
   "source": [
    "### 2.1 Read data"
   ]
  },
  {
   "cell_type": "code",
   "execution_count": 120,
   "id": "derived-thumb",
   "metadata": {},
   "outputs": [],
   "source": [
    "# read the data\n",
    "df = pd.read_csv(\"./student_scores.csv\", sep = ',')"
   ]
  },
  {
   "cell_type": "code",
   "execution_count": 121,
   "id": "pleased-mercy",
   "metadata": {},
   "outputs": [
    {
     "data": {
      "text/plain": [
       "(25, 2)"
      ]
     },
     "execution_count": 121,
     "metadata": {},
     "output_type": "execute_result"
    }
   ],
   "source": [
    "df.shape"
   ]
  },
  {
   "cell_type": "code",
   "execution_count": 122,
   "id": "aerial-calendar",
   "metadata": {
    "_uuid": "2c69cc62eb545d1da46102e67852a72c97a794d1"
   },
   "outputs": [
    {
     "data": {
      "text/html": [
       "<div>\n",
       "<style scoped>\n",
       "    .dataframe tbody tr th:only-of-type {\n",
       "        vertical-align: middle;\n",
       "    }\n",
       "\n",
       "    .dataframe tbody tr th {\n",
       "        vertical-align: top;\n",
       "    }\n",
       "\n",
       "    .dataframe thead th {\n",
       "        text-align: right;\n",
       "    }\n",
       "</style>\n",
       "<table border=\"1\" class=\"dataframe\">\n",
       "  <thead>\n",
       "    <tr style=\"text-align: right;\">\n",
       "      <th></th>\n",
       "      <th>Hours</th>\n",
       "      <th>Scores</th>\n",
       "    </tr>\n",
       "  </thead>\n",
       "  <tbody>\n",
       "    <tr>\n",
       "      <th>0</th>\n",
       "      <td>2.500</td>\n",
       "      <td>21</td>\n",
       "    </tr>\n",
       "    <tr>\n",
       "      <th>1</th>\n",
       "      <td>5.100</td>\n",
       "      <td>47</td>\n",
       "    </tr>\n",
       "    <tr>\n",
       "      <th>2</th>\n",
       "      <td>3.200</td>\n",
       "      <td>27</td>\n",
       "    </tr>\n",
       "    <tr>\n",
       "      <th>3</th>\n",
       "      <td>8.500</td>\n",
       "      <td>75</td>\n",
       "    </tr>\n",
       "    <tr>\n",
       "      <th>4</th>\n",
       "      <td>3.500</td>\n",
       "      <td>30</td>\n",
       "    </tr>\n",
       "    <tr>\n",
       "      <th>5</th>\n",
       "      <td>1.500</td>\n",
       "      <td>20</td>\n",
       "    </tr>\n",
       "    <tr>\n",
       "      <th>6</th>\n",
       "      <td>9.200</td>\n",
       "      <td>88</td>\n",
       "    </tr>\n",
       "    <tr>\n",
       "      <th>7</th>\n",
       "      <td>5.500</td>\n",
       "      <td>60</td>\n",
       "    </tr>\n",
       "    <tr>\n",
       "      <th>8</th>\n",
       "      <td>8.300</td>\n",
       "      <td>81</td>\n",
       "    </tr>\n",
       "    <tr>\n",
       "      <th>9</th>\n",
       "      <td>2.700</td>\n",
       "      <td>25</td>\n",
       "    </tr>\n",
       "  </tbody>\n",
       "</table>\n",
       "</div>"
      ],
      "text/plain": [
       "   Hours  Scores\n",
       "0  2.500      21\n",
       "1  5.100      47\n",
       "2  3.200      27\n",
       "3  8.500      75\n",
       "4  3.500      30\n",
       "5  1.500      20\n",
       "6  9.200      88\n",
       "7  5.500      60\n",
       "8  8.300      81\n",
       "9  2.700      25"
      ]
     },
     "execution_count": 122,
     "metadata": {},
     "output_type": "execute_result"
    }
   ],
   "source": [
    "# get idea of the look\n",
    "df.head(10)"
   ]
  },
  {
   "cell_type": "code",
   "execution_count": 123,
   "id": "alternative-tobacco",
   "metadata": {},
   "outputs": [
    {
     "data": {
      "text/plain": [
       "['Hours', 'Scores']"
      ]
     },
     "execution_count": 123,
     "metadata": {},
     "output_type": "execute_result"
    }
   ],
   "source": [
    "# see which are the attribute labels\n",
    "list(df)"
   ]
  },
  {
   "cell_type": "code",
   "execution_count": 124,
   "id": "minute-nirvana",
   "metadata": {},
   "outputs": [
    {
     "name": "stdout",
     "output_type": "stream",
     "text": [
      "<class 'pandas.core.frame.DataFrame'>\n",
      "RangeIndex: 25 entries, 0 to 24\n",
      "Data columns (total 2 columns):\n",
      " #   Column  Non-Null Count  Dtype  \n",
      "---  ------  --------------  -----  \n",
      " 0   Hours   25 non-null     float64\n",
      " 1   Scores  25 non-null     int64  \n",
      "dtypes: float64(1), int64(1)\n",
      "memory usage: 528.0 bytes\n"
     ]
    }
   ],
   "source": [
    "# get idea of columns and types\n",
    "df.info()"
   ]
  },
  {
   "cell_type": "markdown",
   "id": "paperback-house",
   "metadata": {},
   "source": [
    "### 2.2 Get Asquainted with the Descriptive Statistics of Data"
   ]
  },
  {
   "cell_type": "code",
   "execution_count": 125,
   "id": "partial-saying",
   "metadata": {
    "_uuid": "f14f39886b01c812da46eedc95a0ffc47e37ead2"
   },
   "outputs": [
    {
     "data": {
      "text/html": [
       "<div>\n",
       "<style scoped>\n",
       "    .dataframe tbody tr th:only-of-type {\n",
       "        vertical-align: middle;\n",
       "    }\n",
       "\n",
       "    .dataframe tbody tr th {\n",
       "        vertical-align: top;\n",
       "    }\n",
       "\n",
       "    .dataframe thead th {\n",
       "        text-align: right;\n",
       "    }\n",
       "</style>\n",
       "<table border=\"1\" class=\"dataframe\">\n",
       "  <thead>\n",
       "    <tr style=\"text-align: right;\">\n",
       "      <th></th>\n",
       "      <th>Hours</th>\n",
       "      <th>Scores</th>\n",
       "    </tr>\n",
       "  </thead>\n",
       "  <tbody>\n",
       "    <tr>\n",
       "      <th>count</th>\n",
       "      <td>25.000</td>\n",
       "      <td>25.000</td>\n",
       "    </tr>\n",
       "    <tr>\n",
       "      <th>mean</th>\n",
       "      <td>5.012</td>\n",
       "      <td>51.480</td>\n",
       "    </tr>\n",
       "    <tr>\n",
       "      <th>std</th>\n",
       "      <td>2.525</td>\n",
       "      <td>25.287</td>\n",
       "    </tr>\n",
       "    <tr>\n",
       "      <th>min</th>\n",
       "      <td>1.100</td>\n",
       "      <td>17.000</td>\n",
       "    </tr>\n",
       "    <tr>\n",
       "      <th>25%</th>\n",
       "      <td>2.700</td>\n",
       "      <td>30.000</td>\n",
       "    </tr>\n",
       "    <tr>\n",
       "      <th>50%</th>\n",
       "      <td>4.800</td>\n",
       "      <td>47.000</td>\n",
       "    </tr>\n",
       "    <tr>\n",
       "      <th>75%</th>\n",
       "      <td>7.400</td>\n",
       "      <td>75.000</td>\n",
       "    </tr>\n",
       "    <tr>\n",
       "      <th>max</th>\n",
       "      <td>9.200</td>\n",
       "      <td>95.000</td>\n",
       "    </tr>\n",
       "  </tbody>\n",
       "</table>\n",
       "</div>"
      ],
      "text/plain": [
       "       Hours  Scores\n",
       "count 25.000  25.000\n",
       "mean   5.012  51.480\n",
       "std    2.525  25.287\n",
       "min    1.100  17.000\n",
       "25%    2.700  30.000\n",
       "50%    4.800  47.000\n",
       "75%    7.400  75.000\n",
       "max    9.200  95.000"
      ]
     },
     "execution_count": 125,
     "metadata": {},
     "output_type": "execute_result"
    }
   ],
   "source": [
    "# get idea of basic statistical parameters for each column\n",
    "df.describe()"
   ]
  },
  {
   "cell_type": "code",
   "execution_count": 126,
   "id": "electrical-techno",
   "metadata": {
    "_uuid": "113ec24cf5d89a65ea0d41c3766b8f2265d71ce0"
   },
   "outputs": [],
   "source": [
    "# if you want to change the format, for example to avoid scientific notation, e.g. e+04\n",
    "pd.set_option('display.float_format', lambda x: '%.3f' % x)"
   ]
  },
  {
   "cell_type": "code",
   "execution_count": 127,
   "id": "reasonable-extraction",
   "metadata": {},
   "outputs": [
    {
     "data": {
      "image/png": "[encoded data removed]",
      "text/plain": [
       "<Figure size 432x288 with 1 Axes>"
      ]
     },
     "metadata": {
      "needs_background": "light"
     },
     "output_type": "display_data"
    }
   ],
   "source": [
    "# plot all\n",
    "plt.ylabel('Scores')\n",
    "plt.xlabel('Hours')\n",
    "plt.scatter(df.Hours, df.Scores, color='green')\n",
    "plt.show()"
   ]
  },
  {
   "cell_type": "code",
   "execution_count": 128,
   "id": "similar-blink",
   "metadata": {
    "_uuid": "3a1939668d53b7fc51c0a30373c98194737565eb"
   },
   "outputs": [
    {
     "name": "stderr",
     "output_type": "stream",
     "text": [
      "/opt/anaconda3/lib/python3.8/site-packages/seaborn/distributions.py:2557: FutureWarning: `distplot` is a deprecated function and will be removed in a future version. Please adapt your code to use either `displot` (a figure-level function with similar flexibility) or `histplot` (an axes-level function for histograms).\n",
      "  warnings.warn(msg, FutureWarning)\n"
     ]
    },
    {
     "data": {
      "text/plain": [
       "<AxesSubplot:xlabel='Hours', ylabel='Density'>"
      ]
     },
     "execution_count": 128,
     "metadata": {},
     "output_type": "execute_result"
    },
    {
     "data": {
      "image/png": "[encoded data removed]",
      "text/plain": [
       "<Figure size 432x288 with 1 Axes>"
      ]
     },
     "metadata": {
      "needs_background": "light"
     },
     "output_type": "display_data"
    }
   ],
   "source": [
    "# sns.histplot(df['Hours'],  label='Hours')  \n",
    "sns.distplot(df['Hours'],  label='Hours', norm_hist=True)  "
   ]
  },
  {
   "cell_type": "code",
   "execution_count": 129,
   "id": "internal-memorial",
   "metadata": {},
   "outputs": [
    {
     "name": "stderr",
     "output_type": "stream",
     "text": [
      "/opt/anaconda3/lib/python3.8/site-packages/seaborn/distributions.py:2557: FutureWarning: `distplot` is a deprecated function and will be removed in a future version. Please adapt your code to use either `displot` (a figure-level function with similar flexibility) or `histplot` (an axes-level function for histograms).\n",
      "  warnings.warn(msg, FutureWarning)\n"
     ]
    },
    {
     "data": {
      "text/plain": [
       "<AxesSubplot:xlabel='Scores', ylabel='Density'>"
      ]
     },
     "execution_count": 129,
     "metadata": {},
     "output_type": "execute_result"
    },
    {
     "data": {
      "image/png": "[encoded data removed]",
      "text/plain": [
       "<Figure size 432x288 with 1 Axes>"
      ]
     },
     "metadata": {
      "needs_background": "light"
     },
     "output_type": "display_data"
    }
   ],
   "source": [
    "sns.distplot(df['Scores'],  label='Scores', norm_hist=True) "
   ]
  },
  {
   "cell_type": "markdown",
   "id": "becoming-lithuania",
   "metadata": {},
   "source": [
    "### 2.3 Clean the Data"
   ]
  },
  {
   "cell_type": "code",
   "execution_count": 130,
   "id": "agricultural-adoption",
   "metadata": {
    "_uuid": "3edd5faef2f56bbd1acadb0b65be434a3a7c181c"
   },
   "outputs": [
    {
     "data": {
      "text/plain": [
       "Hours     0\n",
       "Scores    0\n",
       "dtype: int64"
      ]
     },
     "execution_count": 130,
     "metadata": {},
     "output_type": "execute_result"
    }
   ],
   "source": [
    "# to check null values in data\n",
    "df.isnull().sum()"
   ]
  },
  {
   "cell_type": "code",
   "execution_count": 131,
   "id": "enclosed-trinity",
   "metadata": {},
   "outputs": [
    {
     "data": {
      "text/plain": [
       "<AxesSubplot:>"
      ]
     },
     "execution_count": 131,
     "metadata": {},
     "output_type": "execute_result"
    },
    {
     "data": {
      "image/png": "[encoded data removed]",
      "text/plain": [
       "<Figure size 432x288 with 1 Axes>"
      ]
     },
     "metadata": {
      "needs_background": "light"
     },
     "output_type": "display_data"
    }
   ],
   "source": [
    "# same visualized\n",
    "# makes sence if you have null values\n",
    "sns.heatmap(df.isnull(), yticklabels= False, cbar=False, cmap= 'viridis')"
   ]
  },
  {
   "cell_type": "markdown",
   "id": "sophisticated-basement",
   "metadata": {
    "_uuid": "179528edab1c7474bb4e7eda4179408d9f2c384e"
   },
   "source": [
    "Above representation shows that our data does not have any null values, so no further restoration is needed."
   ]
  },
  {
   "cell_type": "markdown",
   "id": "suited-journalist",
   "metadata": {},
   "source": [
    "### 2.4 Investigate the Inter-Dependencies of the Features\n",
    "Create a correlation matrix to see which features determine the output at most, as well as whether there are some correlated features. <br>\n",
    "If two features are correlated, only one of them can represent both."
   ]
  },
  {
   "cell_type": "code",
   "execution_count": 132,
   "id": "according-uzbekistan",
   "metadata": {},
   "outputs": [
    {
     "data": {
      "text/html": [
       "<div>\n",
       "<style scoped>\n",
       "    .dataframe tbody tr th:only-of-type {\n",
       "        vertical-align: middle;\n",
       "    }\n",
       "\n",
       "    .dataframe tbody tr th {\n",
       "        vertical-align: top;\n",
       "    }\n",
       "\n",
       "    .dataframe thead th {\n",
       "        text-align: right;\n",
       "    }\n",
       "</style>\n",
       "<table border=\"1\" class=\"dataframe\">\n",
       "  <thead>\n",
       "    <tr style=\"text-align: right;\">\n",
       "      <th></th>\n",
       "      <th>Hours</th>\n",
       "      <th>Scores</th>\n",
       "    </tr>\n",
       "  </thead>\n",
       "  <tbody>\n",
       "    <tr>\n",
       "      <th>Hours</th>\n",
       "      <td>1.000</td>\n",
       "      <td>0.976</td>\n",
       "    </tr>\n",
       "    <tr>\n",
       "      <th>Scores</th>\n",
       "      <td>0.976</td>\n",
       "      <td>1.000</td>\n",
       "    </tr>\n",
       "  </tbody>\n",
       "</table>\n",
       "</div>"
      ],
      "text/plain": [
       "        Hours  Scores\n",
       "Hours   1.000   0.976\n",
       "Scores  0.976   1.000"
      ]
     },
     "execution_count": 132,
     "metadata": {},
     "output_type": "execute_result"
    }
   ],
   "source": [
    "corr_matrix = df.corr()\n",
    "corr_matrix"
   ]
  },
  {
   "cell_type": "code",
   "execution_count": 133,
   "id": "touched-lesson",
   "metadata": {
    "_uuid": "67ea8c247787fc03eff4a623339d4fef5288d3cc"
   },
   "outputs": [
    {
     "data": {
      "text/plain": [
       "<AxesSubplot:>"
      ]
     },
     "execution_count": 133,
     "metadata": {},
     "output_type": "execute_result"
    },
    {
     "data": {
      "image/png": "[encoded data removed]",
      "text/plain": [
       "<Figure size 720x576 with 2 Axes>"
      ]
     },
     "metadata": {
      "needs_background": "light"
     },
     "output_type": "display_data"
    }
   ],
   "source": [
    "# plot the matrix as a heat map\n",
    "plt.subplots(figsize = (10, 8))\n",
    "sns.heatmap(corr_matrix, annot=True)"
   ]
  },
  {
   "cell_type": "markdown",
   "id": "sustainable-reducing",
   "metadata": {},
   "source": [
    "## Step 3: Train a Model"
   ]
  },
  {
   "cell_type": "markdown",
   "id": "important-currency",
   "metadata": {},
   "source": [
    "### 3.1 Method from _LinearRegression_"
   ]
  },
  {
   "cell_type": "markdown",
   "id": "independent-psychology",
   "metadata": {},
   "source": [
    "#### Split the Data in Dependent y and Independent X Data Sets"
   ]
  },
  {
   "cell_type": "code",
   "execution_count": 134,
   "id": "convinced-equality",
   "metadata": {},
   "outputs": [],
   "source": [
    "X = df['Scores'].values.reshape(-1, 1)\n",
    "y = df['Hours'].values.reshape(-1, 1)"
   ]
  },
  {
   "cell_type": "code",
   "execution_count": 135,
   "id": "ongoing-demand",
   "metadata": {},
   "outputs": [],
   "source": [
    "# split the set into subsets for training and testing\n",
    "from sklearn.model_selection import train_test_split\n",
    "\n",
    "# default proportion is 75:25\n",
    "# X_train, X_test, y_train, y_test = train_test_split(X, y, random_state=1)\n",
    "X_train, X_test, y_train, y_test = train_test_split(X, y, random_state=1, test_size=0.2) "
   ]
  },
  {
   "cell_type": "code",
   "execution_count": 136,
   "id": "cooperative-croatia",
   "metadata": {},
   "outputs": [
    {
     "data": {
      "image/png": "[encoded data removed]",
      "text/plain": [
       "<Figure size 432x288 with 1 Axes>"
      ]
     },
     "metadata": {
      "needs_background": "light"
     },
     "output_type": "display_data"
    }
   ],
   "source": [
    "# plot all\n",
    "plt.ylabel('Hours')\n",
    "plt.xlabel('Scores')\n",
    "plt.scatter(X, y, color='blue')\n",
    "plt.show()"
   ]
  },
  {
   "cell_type": "code",
   "execution_count": 137,
   "id": "painful-runner",
   "metadata": {},
   "outputs": [
    {
     "name": "stdout",
     "output_type": "stream",
     "text": [
      "(20, 1)\n",
      "(20, 1)\n",
      "(5, 1)\n",
      "(5, 1)\n"
     ]
    }
   ],
   "source": [
    "# the shape of the subsets\n",
    "print(X_train.shape)\n",
    "print(y_train.shape)\n",
    "print(X_test.shape)\n",
    "print(y_test.shape)"
   ]
  },
  {
   "cell_type": "markdown",
   "id": "conditional-philadelphia",
   "metadata": {},
   "source": [
    "#### Split the Data in Training and Testing Sets"
   ]
  },
  {
   "cell_type": "markdown",
   "id": "exciting-blend",
   "metadata": {},
   "source": [
    "![imHours.png](attachment:imHours.png)"
   ]
  },
  {
   "cell_type": "code",
   "execution_count": 138,
   "id": "missing-trailer",
   "metadata": {},
   "outputs": [],
   "source": [
    "# creating an instance of Linear Regression model\n",
    "myreg = LinearRegression()"
   ]
  },
  {
   "cell_type": "code",
   "execution_count": 139,
   "id": "hydraulic-consultation",
   "metadata": {},
   "outputs": [
    {
     "data": {
      "text/plain": [
       "LinearRegression()"
      ]
     },
     "execution_count": 139,
     "metadata": {},
     "output_type": "execute_result"
    }
   ],
   "source": [
    "# fit it to our data\n",
    "myreg.fit(X_train, y_train)\n",
    "myreg"
   ]
  },
  {
   "cell_type": "code",
   "execution_count": 140,
   "id": "individual-amateur",
   "metadata": {},
   "outputs": [],
   "source": [
    "# get the calculated coefficients\n",
    "a = myreg.coef_\n",
    "b = myreg.intercept_"
   ]
  },
  {
   "cell_type": "code",
   "execution_count": 141,
   "id": "least-simon",
   "metadata": {},
   "outputs": [
    {
     "data": {
      "text/plain": [
       "array([[0.09213028]])"
      ]
     },
     "execution_count": 141,
     "metadata": {},
     "output_type": "execute_result"
    }
   ],
   "source": [
    "a"
   ]
  },
  {
   "cell_type": "code",
   "execution_count": 142,
   "id": "champion-enlargement",
   "metadata": {},
   "outputs": [
    {
     "data": {
      "text/plain": [
       "array([0.33299749])"
      ]
     },
     "execution_count": 142,
     "metadata": {},
     "output_type": "execute_result"
    }
   ],
   "source": [
    "b"
   ]
  },
  {
   "cell_type": "code",
   "execution_count": 143,
   "id": "labeled-bailey",
   "metadata": {},
   "outputs": [],
   "source": [
    "y_predicted = myreg.predict(X_test)"
   ]
  },
  {
   "cell_type": "code",
   "execution_count": 144,
   "id": "removed-browser",
   "metadata": {},
   "outputs": [
    {
     "data": {
      "image/png": "[encoded data removed]",
      "text/plain": [
       "<Figure size 432x288 with 1 Axes>"
      ]
     },
     "metadata": {
      "needs_background": "light"
     },
     "output_type": "display_data"
    }
   ],
   "source": [
    "# Visualise the Linear Regression \n",
    "plt.title('Linear Regression')\n",
    "plt.scatter(X, y, color='green')\n",
    "plt.plot(X_train, a*X_train + b, color='blue')\n",
    "plt.plot(X_test, y_predicted, color='orange')\n",
    "plt.xlabel('Scores')\n",
    "plt.ylabel('Hours')\n",
    "plt.show()"
   ]
  },
  {
   "cell_type": "code",
   "execution_count": 145,
   "id": "compatible-costume",
   "metadata": {},
   "outputs": [
    {
     "data": {
      "text/plain": [
       "0.949411444900438"
      ]
     },
     "execution_count": 145,
     "metadata": {},
     "output_type": "execute_result"
    }
   ],
   "source": [
    "R2 = myreg.score(X, y)\n",
    "R2"
   ]
  },
  {
   "cell_type": "markdown",
   "id": "difficult-explosion",
   "metadata": {},
   "source": [
    "### 3.1 Method _polyfit_ from _numpy_"
   ]
  },
  {
   "cell_type": "markdown",
   "id": "double-pasta",
   "metadata": {},
   "source": [
    "#### Split the Data in Dependent y and Independent X Data Sets"
   ]
  },
  {
   "cell_type": "code",
   "execution_count": 146,
   "id": "practical-miniature",
   "metadata": {},
   "outputs": [],
   "source": [
    "# Split X and y\n",
    "X, y = df.Scores, df.Hours"
   ]
  },
  {
   "cell_type": "markdown",
   "id": "introductory-national",
   "metadata": {},
   "source": [
    "#### Split the Data in Training and Testing Sets"
   ]
  },
  {
   "cell_type": "code",
   "execution_count": 147,
   "id": "temporal-acting",
   "metadata": {},
   "outputs": [],
   "source": [
    "X_train, X_test, y_train, y_test = train_test_split(X, y, random_state=1, test_size=0.2) "
   ]
  },
  {
   "cell_type": "code",
   "execution_count": 148,
   "id": "american-wagner",
   "metadata": {},
   "outputs": [
    {
     "name": "stdout",
     "output_type": "stream",
     "text": [
      "(20,)\n",
      "(20,)\n",
      "(5,)\n",
      "(5,)\n"
     ]
    }
   ],
   "source": [
    "# the shape of the subsets\n",
    "print(X_train.shape)\n",
    "print(y_train.shape)\n",
    "print(X_test.shape)\n",
    "print(y_test.shape)"
   ]
  },
  {
   "cell_type": "code",
   "execution_count": 149,
   "id": "communist-purpose",
   "metadata": {},
   "outputs": [
    {
     "data": {
      "text/plain": [
       "10   7.700\n",
       "18   6.100\n",
       "19   7.400\n",
       "4    3.500\n",
       "2    3.200\n",
       "20   2.700\n",
       "6    9.200\n",
       "7    5.500\n",
       "22   3.800\n",
       "1    5.100\n",
       "16   2.500\n",
       "0    2.500\n",
       "15   8.900\n",
       "24   7.800\n",
       "23   6.900\n",
       "9    2.700\n",
       "8    8.300\n",
       "12   4.500\n",
       "11   5.900\n",
       "5    1.500\n",
       "Name: Hours, dtype: float64"
      ]
     },
     "execution_count": 149,
     "metadata": {},
     "output_type": "execute_result"
    }
   ],
   "source": [
    "# randomly selected\n",
    "y_train"
   ]
  },
  {
   "cell_type": "markdown",
   "id": "american-token",
   "metadata": {},
   "source": [
    "#### Train a Model"
   ]
  },
  {
   "cell_type": "code",
   "execution_count": 150,
   "id": "muslim-ebony",
   "metadata": {},
   "outputs": [],
   "source": [
    "# build a model from the train data with method 'polyfit'\n",
    "model = np.polyfit(X_train, y_train, 1)"
   ]
  },
  {
   "cell_type": "code",
   "execution_count": 151,
   "id": "sonic-developer",
   "metadata": {},
   "outputs": [
    {
     "data": {
      "text/plain": [
       "array([0.09213028, 0.33299749])"
      ]
     },
     "execution_count": 151,
     "metadata": {},
     "output_type": "execute_result"
    }
   ],
   "source": [
    "# get the result of fitting the regression line on the train data\n",
    "model"
   ]
  },
  {
   "cell_type": "code",
   "execution_count": 152,
   "id": "contrary-custom",
   "metadata": {},
   "outputs": [],
   "source": [
    "a, b = model[0], model[1]"
   ]
  },
  {
   "cell_type": "code",
   "execution_count": 153,
   "id": "headed-angola",
   "metadata": {},
   "outputs": [
    {
     "data": {
      "text/plain": [
       "array([ 0.12312489, -1.30049514])"
      ]
     },
     "execution_count": 153,
     "metadata": {},
     "output_type": "execute_result"
    }
   ],
   "source": [
    "# build the model from the test data\n",
    "test = np.polyfit(X_test, y_test, 1)\n",
    "test"
   ]
  },
  {
   "cell_type": "code",
   "execution_count": 154,
   "id": "abstract-biodiversity",
   "metadata": {},
   "outputs": [],
   "source": [
    "a1, b1 = test[0], test[1]"
   ]
  },
  {
   "cell_type": "code",
   "execution_count": 155,
   "id": "tough-horse",
   "metadata": {},
   "outputs": [
    {
     "data": {
      "image/png": "[encoded data removed]",
      "text/plain": [
       "<Figure size 432x288 with 1 Axes>"
      ]
     },
     "metadata": {
      "needs_background": "light"
     },
     "output_type": "display_data"
    }
   ],
   "source": [
    "# Visualise the Linear Regression \n",
    "plt.title('Linear Regression')\n",
    "plt.scatter(X, y, color='green')\n",
    "plt.plot(X_train, a*X_train + b, color='blue')\n",
    "plt.plot(X_test, a1*X_test + b1, color='orange')\n",
    "plt.xlabel('Scores')\n",
    "plt.ylabel('Hours')\n",
    "plt.show()"
   ]
  },
  {
   "cell_type": "markdown",
   "id": "fleet-nirvana",
   "metadata": {},
   "source": [
    "We observe some differences between the two models."
   ]
  },
  {
   "cell_type": "markdown",
   "id": "developmental-hierarchy",
   "metadata": {},
   "source": [
    "## Step 4: Test the Models"
   ]
  },
  {
   "cell_type": "markdown",
   "id": "varying-christopher",
   "metadata": {},
   "source": [
    "### 4.1 Test with Known Data"
   ]
  },
  {
   "cell_type": "code",
   "execution_count": 156,
   "id": "guilty-immune",
   "metadata": {},
   "outputs": [
    {
     "data": {
      "text/plain": [
       "array([[12.95484575]])"
      ]
     },
     "execution_count": 156,
     "metadata": {},
     "output_type": "execute_result"
    }
   ],
   "source": [
    "Hours_predicted = myreg.predict([[137]])\n",
    "Hours_predicted"
   ]
  },
  {
   "cell_type": "code",
   "execution_count": 157,
   "id": "bizarre-advertising",
   "metadata": {},
   "outputs": [
    {
     "data": {
      "text/plain": [
       "12.28885076780174"
      ]
     },
     "execution_count": 157,
     "metadata": {},
     "output_type": "execute_result"
    }
   ],
   "source": [
    "Hours_predict = a*137 - b\n",
    "Hours_predict"
   ]
  },
  {
   "cell_type": "markdown",
   "id": "cordless-instrumentation",
   "metadata": {},
   "source": [
    "### 4.2 Predict with Unknown Data"
   ]
  },
  {
   "cell_type": "code",
   "execution_count": 158,
   "id": "breathing-complement",
   "metadata": {},
   "outputs": [
    {
     "data": {
      "text/plain": [
       "array([[8.7168529]])"
      ]
     },
     "execution_count": 158,
     "metadata": {},
     "output_type": "execute_result"
    }
   ],
   "source": [
    "# assume a new fish \n",
    "Scores = 91\n",
    "Hours_predicted = myreg.predict([[Scores]])\n",
    "Hours_predicted"
   ]
  },
  {
   "cell_type": "markdown",
   "id": "filled-trust",
   "metadata": {},
   "source": [
    "## Step 5: Model Evaluation \n",
    "\n",
    "We need evaluation metrics designed for comparing continuous values.\n",
    "\n",
    "The **three common evaluation metrics** for regression problems:\n",
    "\n",
    "- **Mean Absolute Error** (MAE) is the mean of the absolute value of the errors:\n",
    "\n",
    "$$\\frac 1n\\sum_{i=1}^n|y_i-\\hat{y}_i|$$\n",
    "\n",
    "- **Mean Squared Error** (MSE) is the mean of the squared errors:\n",
    "\n",
    "$$\\frac 1n\\sum_{i=1}^n(y_i-\\hat{y}_i)^2$$\n",
    "\n",
    "- **Root Mean Squared Error** (RMSE) is the square root of the mean of the squared errors:\n",
    "\n",
    "$$\\sqrt{\\frac 1n\\sum_{i=1}^n(y_i-\\hat{y}_i)^2}$$"
   ]
  },
  {
   "cell_type": "code",
   "execution_count": 159,
   "id": "congressional-binding",
   "metadata": {},
   "outputs": [
    {
     "name": "stdout",
     "output_type": "stream",
     "text": [
      "0.8222139567975646\n"
     ]
    }
   ],
   "source": [
    "# MAE\n",
    "from sklearn import metrics\n",
    "mae = metrics.mean_absolute_error(y_test, y_predicted)\n",
    "print(mae)"
   ]
  },
  {
   "cell_type": "code",
   "execution_count": 160,
   "id": "speaking-cricket",
   "metadata": {},
   "outputs": [
    {
     "name": "stdout",
     "output_type": "stream",
     "text": [
      "0.7413630336598138\n"
     ]
    }
   ],
   "source": [
    "# MSE\n",
    "mse = metrics.mean_squared_error(y_test, y_predicted)\n",
    "print(mse)"
   ]
  },
  {
   "cell_type": "code",
   "execution_count": 161,
   "id": "final-semester",
   "metadata": {},
   "outputs": [
    {
     "name": "stdout",
     "output_type": "stream",
     "text": [
      "0.8610244094448274\n"
     ]
    }
   ],
   "source": [
    "# RMSE\n",
    "rmse = np.sqrt(metrics.mean_squared_error(y_test, y_predicted))\n",
    "print(rmse)"
   ]
  },
  {
   "cell_type": "markdown",
   "id": "dominant-madagascar",
   "metadata": {},
   "source": [
    "Comparing these metrics:\n",
    "\n",
    "- **MAE** is the easiest to understand, because it's the averHours error\n",
    "- **MSE** is more popular than MAE, because MSE \"punishes\" larger errors\n",
    "- **RMSE** is even more popular than MSE, because RMSE is interpretable in the \"y\" units"
   ]
  },
  {
   "cell_type": "markdown",
   "id": "characteristic-whole",
   "metadata": {},
   "source": [
    "### Calculate R-squared"
   ]
  },
  {
   "cell_type": "code",
   "execution_count": 162,
   "id": "strange-seven",
   "metadata": {},
   "outputs": [
    {
     "name": "stdout",
     "output_type": "stream",
     "text": [
      "Explained variance score  0.91\n"
     ]
    }
   ],
   "source": [
    "# Explained variance score: 1 is perfect prediction\n",
    "eV = round(sm.explained_variance_score(y_test, y_predicted), 2)\n",
    "print('Explained variance score ',eV )"
   ]
  },
  {
   "cell_type": "code",
   "execution_count": 163,
   "id": "presidential-attitude",
   "metadata": {},
   "outputs": [
    {
     "data": {
      "text/plain": [
       "0.8915120824075431"
      ]
     },
     "execution_count": 163,
     "metadata": {},
     "output_type": "execute_result"
    }
   ],
   "source": [
    "# R-squared\n",
    "from sklearn.metrics import r2_score\n",
    "#r2_score(y, predict(X))\n",
    "r2_score(y_test, y_predicted)"
   ]
  },
  {
   "cell_type": "markdown",
   "id": "dietary-border",
   "metadata": {},
   "source": [
    "This is bad result!"
   ]
  },
  {
   "cell_type": "markdown",
   "id": "digital-insight",
   "metadata": {},
   "source": [
    "# Step 5: Store the Model"
   ]
  },
  {
   "cell_type": "code",
   "execution_count": 164,
   "id": "chronic-modeling",
   "metadata": {},
   "outputs": [
    {
     "ename": "FileNotFoundError",
     "evalue": "[Errno 2] No such file or directory: '../deploy/mypolifit.pkl'",
     "output_type": "error",
     "traceback": [
      "\u001b[0;31m---------------------------------------------------------------------------\u001b[0m",
      "\u001b[0;31mFileNotFoundError\u001b[0m                         Traceback (most recent call last)",
      "\u001b[0;32m<ipython-input-164-0cf48fa21dc8>\u001b[0m in \u001b[0;36m<module>\u001b[0;34m\u001b[0m\n\u001b[1;32m      3\u001b[0m \u001b[0;34m\u001b[0m\u001b[0m\n\u001b[1;32m      4\u001b[0m \u001b[0;31m# Save now\u001b[0m\u001b[0;34m\u001b[0m\u001b[0;34m\u001b[0m\u001b[0;34m\u001b[0m\u001b[0m\n\u001b[0;32m----> 5\u001b[0;31m \u001b[0;32mwith\u001b[0m \u001b[0mopen\u001b[0m\u001b[0;34m(\u001b[0m\u001b[0mmodel_file\u001b[0m\u001b[0;34m,\u001b[0m \u001b[0;34m'wb'\u001b[0m\u001b[0;34m)\u001b[0m \u001b[0;32mas\u001b[0m \u001b[0mf\u001b[0m\u001b[0;34m:\u001b[0m\u001b[0;34m\u001b[0m\u001b[0;34m\u001b[0m\u001b[0m\n\u001b[0m\u001b[1;32m      6\u001b[0m     \u001b[0mpickle\u001b[0m\u001b[0;34m.\u001b[0m\u001b[0mdump\u001b[0m\u001b[0;34m(\u001b[0m\u001b[0mmodel\u001b[0m\u001b[0;34m,\u001b[0m \u001b[0mf\u001b[0m\u001b[0;34m)\u001b[0m\u001b[0;34m\u001b[0m\u001b[0;34m\u001b[0m\u001b[0m\n",
      "\u001b[0;31mFileNotFoundError\u001b[0m: [Errno 2] No such file or directory: '../deploy/mypolifit.pkl'"
     ]
    }
   ],
   "source": [
    "# Store the model in a file\n",
    "model_file = '../deploy/mypolifit.pkl'\n",
    "\n",
    "# Save now\n",
    "with open(model_file, 'wb') as f:\n",
    "    pickle.dump(model, f)"
   ]
  },
  {
   "cell_type": "code",
   "execution_count": null,
   "id": "ecological-sullivan",
   "metadata": {},
   "outputs": [],
   "source": [
    "# To load it later for reuse\n",
    "with open(model_file, 'rb') as f:\n",
    "    mymodel = pickle.load(f)"
   ]
  },
  {
   "cell_type": "code",
   "execution_count": null,
   "id": "centered-interpretation",
   "metadata": {},
   "outputs": [],
   "source": [
    "# Test reading from the file\n",
    "predict = np.poly1d(mymodel)\n",
    "my_Hours_prediction = predict(120)\n",
    "print(my_Hours_prediction)"
   ]
  },
  {
   "cell_type": "markdown",
   "id": "nominated-crash",
   "metadata": {},
   "source": [
    "## Exercise\n",
    "Your turn - analyse the students data"
   ]
  },
  {
   "cell_type": "markdown",
   "id": "touched-muslim",
   "metadata": {},
   "source": [
    "## Reference\n",
    "https://www.kaggle.com/aniketg11/predicting-house-prices-through-regression/notebook <br>\n",
    "https://www.dataquest.io/blog/understanding-regression-error-metrics/ <br>"
   ]
  },
  {
   "cell_type": "markdown",
   "id": "talented-gazette",
   "metadata": {},
   "source": [
    "# E7-3 Simple Linear Regression Demo\n",
    "This example demonstrates supervised machine learning by simple linear regression."
   ]
  },
  {
   "cell_type": "markdown",
   "id": "gorgeous-oriental",
   "metadata": {},
   "source": [
    "## Step 1: Problem Analysis and Framing"
   ]
  },
  {
   "cell_type": "markdown",
   "id": "hispanic-tuning",
   "metadata": {},
   "source": [
    "![imHours.png](attachment:imHours.png)"
   ]
  },
  {
   "cell_type": "code",
   "execution_count": null,
   "id": "appointed-courtesy",
   "metadata": {},
   "outputs": [],
   "source": [
    "# For data manipulation\n",
    "import pandas as pd\n",
    "\n",
    "# for scientific computation\n",
    "import numpy as np\n",
    "\n",
    "# for data analysis\n",
    "from sklearn.preprocessing import StandardScaler \n",
    "from sklearn import linear_model\n",
    "from sklearn.linear_model import LinearRegression\n",
    "import sklearn.metrics as sm\n",
    "\n",
    "# for diagramming \n",
    "import matplotlib.pyplot as plt\n",
    "import seaborn as sns\n",
    "\n",
    "# For serialization and deserialization of data from/to file\n",
    "import pickle"
   ]
  },
  {
   "cell_type": "markdown",
   "id": "experienced-birth",
   "metadata": {},
   "source": [
    "## Step 2: Data Preparation"
   ]
  },
  {
   "cell_type": "markdown",
   "id": "artistic-vanilla",
   "metadata": {},
   "source": [
    "### 2.1 Read data"
   ]
  },
  {
   "cell_type": "code",
   "execution_count": null,
   "id": "stupid-railway",
   "metadata": {},
   "outputs": [],
   "source": [
    "# read the data\n",
    "df = pd.read_csv(\"../data/student_scores.csv\", sep = ',')"
   ]
  },
  {
   "cell_type": "code",
   "execution_count": null,
   "id": "promotional-porter",
   "metadata": {},
   "outputs": [],
   "source": [
    "df.shape"
   ]
  },
  {
   "cell_type": "code",
   "execution_count": null,
   "id": "arbitrary-tutorial",
   "metadata": {
    "_uuid": "2c69cc62eb545d1da46102e67852a72c97a794d1"
   },
   "outputs": [],
   "source": [
    "# get idea of the look\n",
    "df.head(10)"
   ]
  },
  {
   "cell_type": "code",
   "execution_count": null,
   "id": "sharp-parliament",
   "metadata": {},
   "outputs": [],
   "source": [
    "# see which are the attribute labels\n",
    "list(df)"
   ]
  },
  {
   "cell_type": "code",
   "execution_count": null,
   "id": "committed-boston",
   "metadata": {},
   "outputs": [],
   "source": [
    "# get idea of columns and types\n",
    "df.info()"
   ]
  },
  {
   "cell_type": "markdown",
   "id": "parallel-sodium",
   "metadata": {},
   "source": [
    "### 2.2 Get Asquainted with the Descriptive Statistics of Data"
   ]
  },
  {
   "cell_type": "code",
   "execution_count": null,
   "id": "visible-gibson",
   "metadata": {
    "_uuid": "f14f39886b01c812da46eedc95a0ffc47e37ead2"
   },
   "outputs": [],
   "source": [
    "# get idea of basic statistical parameters for each column\n",
    "df.describe()"
   ]
  },
  {
   "cell_type": "code",
   "execution_count": null,
   "id": "documented-attack",
   "metadata": {
    "_uuid": "113ec24cf5d89a65ea0d41c3766b8f2265d71ce0"
   },
   "outputs": [],
   "source": [
    "# if you want to change the format, for example to avoid scientific notation, e.g. e+04\n",
    "pd.set_option('display.float_format', lambda x: '%.3f' % x)"
   ]
  },
  {
   "cell_type": "code",
   "execution_count": null,
   "id": "going-poultry",
   "metadata": {},
   "outputs": [],
   "source": [
    "# plot all\n",
    "plt.ylabel('Scores')\n",
    "plt.xlabel('Hours')\n",
    "plt.scatter(df.Hours, df.Scores, color='green')\n",
    "plt.show()"
   ]
  },
  {
   "cell_type": "code",
   "execution_count": null,
   "id": "vocal-defendant",
   "metadata": {
    "_uuid": "3a1939668d53b7fc51c0a30373c98194737565eb"
   },
   "outputs": [],
   "source": [
    "# sns.histplot(df['Hours'],  label='Hours')  \n",
    "sns.distplot(df['Hours'],  label='Hours', norm_hist=True)  "
   ]
  },
  {
   "cell_type": "code",
   "execution_count": null,
   "id": "abroad-turkey",
   "metadata": {},
   "outputs": [],
   "source": [
    "sns.distplot(df['Scores'],  label='Scores', norm_hist=True) "
   ]
  },
  {
   "cell_type": "markdown",
   "id": "corresponding-caution",
   "metadata": {},
   "source": [
    "### 2.3 Clean the Data"
   ]
  },
  {
   "cell_type": "code",
   "execution_count": null,
   "id": "requested-ministry",
   "metadata": {
    "_uuid": "3edd5faef2f56bbd1acadb0b65be434a3a7c181c"
   },
   "outputs": [],
   "source": [
    "# to check null values in data\n",
    "df.isnull().sum()"
   ]
  },
  {
   "cell_type": "code",
   "execution_count": null,
   "id": "metallic-coach",
   "metadata": {},
   "outputs": [],
   "source": [
    "# same visualized\n",
    "# makes sence if you have null values\n",
    "sns.heatmap(df.isnull(), yticklabels= False, cbar=False, cmap= 'viridis')"
   ]
  },
  {
   "cell_type": "markdown",
   "id": "reduced-beaver",
   "metadata": {
    "_uuid": "179528edab1c7474bb4e7eda4179408d9f2c384e"
   },
   "source": [
    "Above representation shows that our data does not have any null values, so no further restoration is needed."
   ]
  },
  {
   "cell_type": "markdown",
   "id": "casual-imagination",
   "metadata": {},
   "source": [
    "### 2.4 Investigate the Inter-Dependencies of the Features\n",
    "Create a correlation matrix to see which features determine the output at most, as well as whether there are some correlated features. <br>\n",
    "If two features are correlated, only one of them can represent both."
   ]
  },
  {
   "cell_type": "code",
   "execution_count": null,
   "id": "fantastic-gilbert",
   "metadata": {},
   "outputs": [],
   "source": [
    "corr_matrix = df.corr()\n",
    "corr_matrix"
   ]
  },
  {
   "cell_type": "code",
   "execution_count": null,
   "id": "warming-reproduction",
   "metadata": {
    "_uuid": "67ea8c247787fc03eff4a623339d4fef5288d3cc"
   },
   "outputs": [],
   "source": [
    "# plot the matrix as a heat map\n",
    "plt.subplots(figsize = (10, 8))\n",
    "sns.heatmap(corr_matrix, annot=True)"
   ]
  },
  {
   "cell_type": "markdown",
   "id": "occupational-review",
   "metadata": {},
   "source": [
    "## Step 3: Train a Model"
   ]
  },
  {
   "cell_type": "markdown",
   "id": "brief-plate",
   "metadata": {},
   "source": [
    "### 3.1 Method from _LinearRegression_"
   ]
  },
  {
   "cell_type": "markdown",
   "id": "exempt-virgin",
   "metadata": {},
   "source": [
    "#### Split the Data in Dependent y and Independent X Data Sets"
   ]
  },
  {
   "cell_type": "code",
   "execution_count": null,
   "id": "agreed-strategy",
   "metadata": {},
   "outputs": [],
   "source": [
    "X = df['Scores'].values.reshape(-1, 1)\n",
    "y = df['Hours'].values.reshape(-1, 1)"
   ]
  },
  {
   "cell_type": "code",
   "execution_count": null,
   "id": "supported-easter",
   "metadata": {},
   "outputs": [],
   "source": [
    "# plot all\n",
    "plt.ylabel('Hours')\n",
    "plt.xlabel('Scores')\n",
    "plt.scatter(X, y, color='blue')\n",
    "plt.show()"
   ]
  },
  {
   "cell_type": "code",
   "execution_count": null,
   "id": "charming-tuition",
   "metadata": {},
   "outputs": [],
   "source": [
    "X_train = df['Scores'].values.reshape(-1, 1)[:20]\n",
    "y_train = df['Hours'].values.reshape(-1, 1)[:20]\n",
    "X_test = df['Scores'].values.reshape(-1, 1)[20:25]\n",
    "y_test = df['Hours'].values.reshape(-1, 1)[20:25]"
   ]
  },
  {
   "cell_type": "code",
   "execution_count": null,
   "id": "chemical-gentleman",
   "metadata": {},
   "outputs": [],
   "source": [
    "# the shape of the subsets\n",
    "print(X_train.shape)\n",
    "print(y_train.shape)\n",
    "print(X_test.shape)\n",
    "print(y_test.shape)"
   ]
  },
  {
   "cell_type": "markdown",
   "id": "commercial-kansas",
   "metadata": {},
   "source": [
    "#### Split the Data in Training and Testing Sets"
   ]
  },
  {
   "cell_type": "markdown",
   "id": "funky-development",
   "metadata": {},
   "source": [
    "![imHours.png](attachment:imHours.png)"
   ]
  },
  {
   "cell_type": "code",
   "execution_count": null,
   "id": "constitutional-enlargement",
   "metadata": {},
   "outputs": [],
   "source": [
    "# X_train, X_test, y_train, y_test = train_test_split(X, y, random_state=1)\n",
    "X_train, X_test, y_train, y_test = train_test_split(X, y, random_state=1, test_size=0.2) "
   ]
  },
  {
   "cell_type": "code",
   "execution_count": null,
   "id": "superior-battlefield",
   "metadata": {},
   "outputs": [],
   "source": [
    "# creating an instance of Linear Regression model\n",
    "myreg = LinearRegression()"
   ]
  },
  {
   "cell_type": "code",
   "execution_count": null,
   "id": "handed-palestine",
   "metadata": {},
   "outputs": [],
   "source": [
    "# fit it to our data\n",
    "myreg.fit(X_train, y_train)\n",
    "myreg"
   ]
  },
  {
   "cell_type": "code",
   "execution_count": null,
   "id": "earlier-plastic",
   "metadata": {},
   "outputs": [],
   "source": [
    "# get the calculated coefficients\n",
    "a = myreg.coef_\n",
    "b = myreg.intercept_"
   ]
  },
  {
   "cell_type": "code",
   "execution_count": null,
   "id": "aggressive-access",
   "metadata": {},
   "outputs": [],
   "source": [
    "a"
   ]
  },
  {
   "cell_type": "code",
   "execution_count": null,
   "id": "declared-jason",
   "metadata": {},
   "outputs": [],
   "source": [
    "b"
   ]
  },
  {
   "cell_type": "code",
   "execution_count": null,
   "id": "other-intellectual",
   "metadata": {},
   "outputs": [],
   "source": [
    "y_predicted = myreg.predict(X_test)"
   ]
  },
  {
   "cell_type": "code",
   "execution_count": null,
   "id": "armed-essex",
   "metadata": {},
   "outputs": [],
   "source": [
    "# Visualise the Linear Regression \n",
    "plt.title('Linear Regression')\n",
    "plt.scatter(X, y, color='green')\n",
    "plt.plot(X_train, a*X_train + b, color='blue')\n",
    "plt.plot(X_test, y_predicted, color='orange')\n",
    "plt.xlabel('Scores')\n",
    "plt.ylabel('Hours')\n",
    "plt.show()"
   ]
  },
  {
   "cell_type": "code",
   "execution_count": null,
   "id": "first-story",
   "metadata": {},
   "outputs": [],
   "source": [
    "R2 = myreg.score(X, y)\n",
    "R2"
   ]
  },
  {
   "cell_type": "markdown",
   "id": "exotic-richards",
   "metadata": {},
   "source": [
    "### 3.1 Method _polyfit_ from _numpy_"
   ]
  },
  {
   "cell_type": "markdown",
   "id": "cultural-slide",
   "metadata": {},
   "source": [
    "#### Split the Data in Dependent y and Independent X Data Sets"
   ]
  },
  {
   "cell_type": "code",
   "execution_count": null,
   "id": "shared-porcelain",
   "metadata": {},
   "outputs": [],
   "source": [
    "# Split X and y\n",
    "X, y = df.Scores, df.Hours"
   ]
  },
  {
   "cell_type": "markdown",
   "id": "accurate-triangle",
   "metadata": {},
   "source": [
    "#### Split the Data in Training and Testing Sets"
   ]
  },
  {
   "cell_type": "code",
   "execution_count": null,
   "id": "handmade-background",
   "metadata": {},
   "outputs": [],
   "source": [
    "# split the set into subsets for training and testing\n",
    "from sklearn.model_selection import train_test_split\n",
    "\n",
    "# default proportion is 75:25\n",
    "# X_train, X_test, y_train, y_test = train_test_split(X, y, random_state=1)\n",
    "X_train, X_test, y_train, y_test = train_test_split(X, y, random_state=1, test_size=0.2) "
   ]
  },
  {
   "cell_type": "code",
   "execution_count": null,
   "id": "secret-triumph",
   "metadata": {},
   "outputs": [],
   "source": [
    "# the shape of the subsets\n",
    "print(X_train.shape)\n",
    "print(y_train.shape)\n",
    "print(X_test.shape)\n",
    "print(y_test.shape)"
   ]
  },
  {
   "cell_type": "code",
   "execution_count": null,
   "id": "stable-thermal",
   "metadata": {},
   "outputs": [],
   "source": [
    "# randomly selected\n",
    "y_train"
   ]
  },
  {
   "cell_type": "markdown",
   "id": "forward-title",
   "metadata": {},
   "source": [
    "#### Train a Model"
   ]
  },
  {
   "cell_type": "code",
   "execution_count": null,
   "id": "asian-carbon",
   "metadata": {},
   "outputs": [],
   "source": [
    "# build a model from the train data with method 'polyfit'\n",
    "model = np.polyfit(X_train, y_train, 1)"
   ]
  },
  {
   "cell_type": "code",
   "execution_count": null,
   "id": "three-liberty",
   "metadata": {},
   "outputs": [],
   "source": [
    "# get the result of fitting the regression line on the train data\n",
    "model"
   ]
  },
  {
   "cell_type": "code",
   "execution_count": null,
   "id": "compact-fleet",
   "metadata": {},
   "outputs": [],
   "source": [
    "a, b = model[0], model[1]"
   ]
  },
  {
   "cell_type": "code",
   "execution_count": null,
   "id": "ambient-divorce",
   "metadata": {},
   "outputs": [],
   "source": [
    "# build the model from the test data\n",
    "test = np.polyfit(X_test, y_test, 1)\n",
    "test"
   ]
  },
  {
   "cell_type": "code",
   "execution_count": null,
   "id": "chubby-genre",
   "metadata": {},
   "outputs": [],
   "source": [
    "a1, b1 = test[0], test[1]"
   ]
  },
  {
   "cell_type": "code",
   "execution_count": null,
   "id": "purple-driving",
   "metadata": {},
   "outputs": [],
   "source": [
    "# Visualise the Linear Regression \n",
    "plt.title('Linear Regression')\n",
    "plt.scatter(X, y, color='green')\n",
    "plt.plot(X_train, a*X_train + b, color='blue')\n",
    "plt.plot(X_test, a1*X_test + b1, color='orange')\n",
    "plt.xlabel('Scores')\n",
    "plt.ylabel('Hours')\n",
    "plt.show()"
   ]
  },
  {
   "cell_type": "markdown",
   "id": "described-expression",
   "metadata": {},
   "source": [
    "We observe some differences between the two models."
   ]
  },
  {
   "cell_type": "markdown",
   "id": "beginning-tenant",
   "metadata": {},
   "source": [
    "## Step 4: Test the Models"
   ]
  },
  {
   "cell_type": "markdown",
   "id": "thick-atlas",
   "metadata": {},
   "source": [
    "### 4.1 Test with Known Data"
   ]
  },
  {
   "cell_type": "code",
   "execution_count": null,
   "id": "searching-happening",
   "metadata": {},
   "outputs": [],
   "source": [
    "Hours_predicted = myreg.predict([[137]])\n",
    "Hours_predicted"
   ]
  },
  {
   "cell_type": "code",
   "execution_count": null,
   "id": "mechanical-swimming",
   "metadata": {},
   "outputs": [],
   "source": [
    "Hours_predict = a*137 - b\n",
    "Hours_predict"
   ]
  },
  {
   "cell_type": "markdown",
   "id": "accredited-moses",
   "metadata": {},
   "source": [
    "### 4.2 Predict with Unknown Data"
   ]
  },
  {
   "cell_type": "code",
   "execution_count": null,
   "id": "korean-engineering",
   "metadata": {},
   "outputs": [],
   "source": [
    "# assume a new fish \n",
    "Scores = 91\n",
    "Hours_predicted = myreg.predict([[Scores]])\n",
    "Hours_predicted"
   ]
  },
  {
   "cell_type": "markdown",
   "id": "protecting-toilet",
   "metadata": {},
   "source": [
    "## Step 5: Model Evaluation \n",
    "\n",
    "We need evaluation metrics designed for comparing continuous values.\n",
    "\n",
    "The **three common evaluation metrics** for regression problems:\n",
    "\n",
    "- **Mean Absolute Error** (MAE) is the mean of the absolute value of the errors:\n",
    "\n",
    "$$\\frac 1n\\sum_{i=1}^n|y_i-\\hat{y}_i|$$\n",
    "\n",
    "- **Mean Squared Error** (MSE) is the mean of the squared errors:\n",
    "\n",
    "$$\\frac 1n\\sum_{i=1}^n(y_i-\\hat{y}_i)^2$$\n",
    "\n",
    "- **Root Mean Squared Error** (RMSE) is the square root of the mean of the squared errors:\n",
    "\n",
    "$$\\sqrt{\\frac 1n\\sum_{i=1}^n(y_i-\\hat{y}_i)^2}$$"
   ]
  },
  {
   "cell_type": "code",
   "execution_count": null,
   "id": "alpha-mission",
   "metadata": {},
   "outputs": [],
   "source": [
    "# MAE\n",
    "from sklearn import metrics\n",
    "mae = metrics.mean_absolute_error(y_test, y_predicted)\n",
    "print(mae)"
   ]
  },
  {
   "cell_type": "code",
   "execution_count": null,
   "id": "illegal-senior",
   "metadata": {},
   "outputs": [],
   "source": [
    "# MSE\n",
    "mse = metrics.mean_squared_error(y_test, y_predicted)\n",
    "print(mse)"
   ]
  },
  {
   "cell_type": "code",
   "execution_count": null,
   "id": "applied-origin",
   "metadata": {},
   "outputs": [],
   "source": [
    "# RMSE\n",
    "rmse = np.sqrt(metrics.mean_squared_error(y_test, y_predicted))\n",
    "print(rmse)"
   ]
  },
  {
   "cell_type": "markdown",
   "id": "pleased-webcam",
   "metadata": {},
   "source": [
    "Comparing these metrics:\n",
    "\n",
    "- **MAE** is the easiest to understand, because it's the averHours error\n",
    "- **MSE** is more popular than MAE, because MSE \"punishes\" larger errors\n",
    "- **RMSE** is even more popular than MSE, because RMSE is interpretable in the \"y\" units"
   ]
  },
  {
   "cell_type": "markdown",
   "id": "funny-studio",
   "metadata": {},
   "source": [
    "### Calculate R-squared"
   ]
  },
  {
   "cell_type": "code",
   "execution_count": null,
   "id": "smart-airline",
   "metadata": {},
   "outputs": [],
   "source": [
    "# Explained variance score: 1 is perfect prediction\n",
    "eV = round(sm.explained_variance_score(y_test, y_predicted), 2)\n",
    "print('Explained variance score ',eV )"
   ]
  },
  {
   "cell_type": "code",
   "execution_count": null,
   "id": "statewide-conversation",
   "metadata": {},
   "outputs": [],
   "source": [
    "# R-squared\n",
    "from sklearn.metrics import r2_score\n",
    "#r2_score(y, predict(X))\n",
    "r2_score(y_test, y_predicted)"
   ]
  },
  {
   "cell_type": "markdown",
   "id": "liable-television",
   "metadata": {},
   "source": [
    "This is bad result!"
   ]
  },
  {
   "cell_type": "markdown",
   "id": "fundamental-cabinet",
   "metadata": {},
   "source": [
    "# Step 5: Store the Model"
   ]
  },
  {
   "cell_type": "code",
   "execution_count": null,
   "id": "concrete-civilian",
   "metadata": {},
   "outputs": [],
   "source": [
    "# Store the model in a file\n",
    "model_file = '../deploy/mypolifit.pkl'\n",
    "\n",
    "# Save now\n",
    "with open(model_file, 'wb') as f:\n",
    "    pickle.dump(model, f)"
   ]
  },
  {
   "cell_type": "code",
   "execution_count": null,
   "id": "efficient-football",
   "metadata": {},
   "outputs": [],
   "source": [
    "# To load it later for reuse\n",
    "with open(model_file, 'rb') as f:\n",
    "    mymodel = pickle.load(f)"
   ]
  },
  {
   "cell_type": "code",
   "execution_count": null,
   "id": "scenic-lafayette",
   "metadata": {},
   "outputs": [],
   "source": [
    "# Test reading from the file\n",
    "predict = np.poly1d(mymodel)\n",
    "my_Hours_prediction = predict(120)\n",
    "print(my_Hours_prediction)"
   ]
  },
  {
   "cell_type": "markdown",
   "id": "drawn-contemporary",
   "metadata": {},
   "source": [
    "## Exercise\n",
    "Your turn - analyse the students data"
   ]
  },
  {
   "cell_type": "markdown",
   "id": "portuguese-split",
   "metadata": {},
   "source": [
    "## Reference\n",
    "https://www.kaggle.com/aniketg11/predicting-house-prices-through-regression/notebook <br>\n",
    "https://www.dataquest.io/blog/understanding-regression-error-metrics/ <br>"
   ]
  }
 ],
 "metadata": {
  "kernelspec": {
   "display_name": "Python 3",
   "language": "python",
   "name": "python3"
  },
  "language_info": {
   "codemirror_mode": {
    "name": "ipython",
    "version": 3
   },
   "file_extension": ".py",
   "mimetype": "text/x-python",
   "name": "python",
   "nbconvert_exporter": "python",
   "pygments_lexer": "ipython3",
   "version": "3.8.5"
  }
 },
 "nbformat": 4,
 "nbformat_minor": 5
}
